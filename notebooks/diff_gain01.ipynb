{
 "cells": [
  {
   "cell_type": "code",
   "execution_count": 1,
   "metadata": {},
   "outputs": [],
   "source": [
    "%load_ext autoreload\n",
    "%autoreload 2\n",
    "import h5py\n",
    "import numpy as np\n",
    "import healpy as hp\n",
    "import matplotlib.pyplot as plt\n",
    "from scanfields import Scanfield, Scanfield_channel, Scanfield_total\n",
    "\n",
    "channel_list = [\n",
    "    'L1-040','L2-050','L1-060','L3-068','L2-068','L4-078','L1-078','L3-089','L2-089','L4-100','L3-119','L4-140',\n",
    "    'M1-100','M2-119','M1-140','M2-166','M1-195',\n",
    "    'H1-195','H2-235','H1-280','H2-337','H3-402'\n",
    "]\n"
   ]
  },
  {
   "cell_type": "code",
   "execution_count": 2,
   "metadata": {},
   "outputs": [],
   "source": [
    "class Field:\n",
    "    def __init__(self, field, spin):\n",
    "        if all(isinstance(x, float) for x in field):\n",
    "            self.field = field + 1j*np.zeros(len(field))\n",
    "        else:\n",
    "            self.field = field\n",
    "        self.spin = spin\n",
    "\n",
    "class Signalfields:\n",
    "    def __init__(self, *fields: Field):\n",
    "        self.fields = sorted(fields, key=lambda field: field.spin)\n",
    "        self.spins = np.array([field.spin for field in self.fields])\n",
    "\n",
    "\n",
    "def couple_fields(scan_fields: Scanfield, signal_fields: Signalfields, spin_out: int):\n",
    "    results = []\n",
    "    for i in range(len(signal_fields.spins)):\n",
    "        n = spin_out - signal_fields.spins[i]\n",
    "        print(f\"n-n': {n}, n: {signal_fields.spins[i]}\")\n",
    "        results.append(scan_fields.get_xlink(n) * signal_fields.fields[i].field)\n",
    "    return np.array(results)"
   ]
  },
  {
   "cell_type": "code",
   "execution_count": 3,
   "metadata": {},
   "outputs": [],
   "source": [
    "# Load single detector map\n",
    "base_path = \"../crosslinks_2407\"\n",
    "sf1 = Scanfield(base_path+\"/boresight/nside128_boresight.h5\")\n",
    "maps = hp.read_map(\"./cmb_0000_nside_128_date_230813_seed_33.fits\", field=(0,1,2)) * 1e6\n",
    "#sf1 = Scanfield(base_path+\"/L1-040/nside128_000_000_003_QA_040_T.h5\")\n",
    "#sf2 = Scanfield(base_path+\"/L1-040/nside128_000_004_005_UA_040_T.h5\")"
   ]
  },
  {
   "cell_type": "code",
   "execution_count": 4,
   "metadata": {},
   "outputs": [],
   "source": [
    "g_a = 0.0\n",
    "g_b = 0\n",
    "delta_g = g_a - g_b\n",
    "P = maps[1] + 1j*maps[2]\n",
    "\n",
    "signal_field = Signalfields(\n",
    "    Field(delta_g * maps[0], spin=0),\n",
    "    Field(0.5 * (2.0+g_a+g_b) * P, spin=2),\n",
    "    Field(0.5 * (2.0+g_a+g_b) * P.conj(), spin=-2),\n",
    ")\n"
   ]
  },
  {
   "cell_type": "code",
   "execution_count": 5,
   "metadata": {},
   "outputs": [
    {
     "name": "stdout",
     "output_type": "stream",
     "text": [
      "n-n': 2, n: -2\n",
      "n-n': 0, n: 0\n",
      "n-n': -2, n: 2\n",
      "n-n': 4, n: -2\n",
      "n-n': 2, n: 0\n",
      "n-n': 0, n: 2\n",
      "n-n': 0, n: -2\n",
      "n-n': -2, n: 0\n",
      "n-n': -4, n: 2\n"
     ]
    }
   ],
   "source": [
    "s0 = couple_fields(sf1, signal_field, 0).sum(0)\n",
    "s2 = couple_fields(sf1, signal_field, 2).sum(0)\n",
    "sm2 = couple_fields(sf1, signal_field, -2).sum(0)"
   ]
  },
  {
   "cell_type": "code",
   "execution_count": 18,
   "metadata": {},
   "outputs": [
    {
     "data": {
      "text/plain": [
       "array([[ 1.        +0.j        , -0.07950018+0.16274038j,\n",
       "        -0.07950018-0.16274038j],\n",
       "       [-0.07950018-0.16274038j,  0.25      +0.j        ,\n",
       "         0.0484991 +0.02470542j],\n",
       "       [-0.07950018+0.16274038j,  0.0484991 -0.02470542j,\n",
       "         0.25      +0.j        ]], dtype=complex64)"
      ]
     },
     "execution_count": 18,
     "metadata": {},
     "output_type": "execute_result"
    }
   ],
   "source": [
    "def get_covmat(sf):\n",
    "    mat = np.array([\n",
    "        [sf.get_xlink(0) ,  sf.get_xlink(-2)   , sf.get_xlink(2)],\n",
    "        [sf.get_xlink(2) ,  sf.get_xlink(0)/4.0, sf.get_xlink(4)],\n",
    "        [sf.get_xlink(-2), sf.get_xlink(-4)    , sf.get_xlink(0)/4.0]\n",
    "        ])\n",
    "    return mat\n",
    "\n",
    "get_covmat(sf1)[:,:,0]"
   ]
  },
  {
   "cell_type": "code",
   "execution_count": 12,
   "metadata": {},
   "outputs": [
    {
     "data": {
      "text/plain": [
       "(2, 2, 196608)"
      ]
     },
     "execution_count": 12,
     "metadata": {},
     "output_type": "execute_result"
    }
   ],
   "source": [
    "np.array([\n",
    "    [sf1.get_xlink(1), sf1.get_xlink(1)],\n",
    "    [sf1.get_xlink(1), sf1.get_xlink(1)],\n",
    "    ]).shape"
   ]
  }
 ],
 "metadata": {
  "kernelspec": {
   "display_name": "lbs_env",
   "language": "python",
   "name": "python3"
  },
  "language_info": {
   "codemirror_mode": {
    "name": "ipython",
    "version": 3
   },
   "file_extension": ".py",
   "mimetype": "text/x-python",
   "name": "python",
   "nbconvert_exporter": "python",
   "pygments_lexer": "ipython3",
   "version": "3.9.18"
  }
 },
 "nbformat": 4,
 "nbformat_minor": 2
}
