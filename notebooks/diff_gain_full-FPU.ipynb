{
 "cells": [
  {
   "cell_type": "code",
   "execution_count": 1,
   "metadata": {},
   "outputs": [],
   "source": [
    "%load_ext autoreload\n",
    "%autoreload 2\n",
    "import numpy as np\n",
    "import healpy as hp\n",
    "import matplotlib.pyplot as plt\n",
    "from scanfields import Field, ScanFields, SignalFields, couple_fields"
   ]
  },
  {
   "cell_type": "code",
   "execution_count": 4,
   "metadata": {},
   "outputs": [
    {
     "name": "stdout",
     "output_type": "stream",
     "text": [
      "Using 64 processes\n"
     ]
    }
   ],
   "source": [
    "# Load single detector map\n",
    "base_path = \"../crosslinks_2407_3yr\"\n",
    "sf_boresight = ScanFields.load_det(\"../crosslinks_2407_3yr/boresight\", \"nside128_boresight.h5\")\n",
    "maps = hp.read_map(\"./cmb_0000_nside_128_seed_33.fits\", field=(0,1,2)) * 1e6\n",
    "# It loads all the channels in parallel\n",
    "sf_total = ScanFields.load_full_FPU(base_path, sf_boresight.all_channels)"
   ]
  },
  {
   "cell_type": "code",
   "execution_count": 25,
   "metadata": {},
   "outputs": [
    {
     "data": {
      "text/plain": [
       "array([[-0.15947938+0.j        , -0.18893961+0.j        ,\n",
       "        -0.35354991+0.j        , ..., -0.15284616+0.j        ,\n",
       "         0.43100512+0.j        , -1.15532122+0.j        ],\n",
       "       [-0.4588957 +0.74225793j,  0.38204417+0.81374249j,\n",
       "        -1.50564784+0.25878143j, ...,  0.41968881-0.91058513j,\n",
       "         0.80270469+1.32726101j,  0.67211307+1.24024143j],\n",
       "       [-0.4588957 -0.74225793j,  0.38204417-0.81374249j,\n",
       "        -1.50564784-0.25878143j, ...,  0.41968881+0.91058513j,\n",
       "         0.80270469-1.32726101j,  0.67211307-1.24024143j]])"
      ]
     },
     "execution_count": 25,
     "metadata": {},
     "output_type": "execute_result"
    }
   ],
   "source": [
    "def get_compled_field(scan_field, signal_fields, mdim=3):\n",
    "    s_0 = couple_fields(scan_field, signal_fields, spin_out=0).sum(0)\n",
    "    sp2 = couple_fields(scan_field, signal_fields, spin_out=2).sum(0)\n",
    "    sm2 = couple_fields(scan_field, signal_fields, spin_out=-2).sum(0)\n",
    "    if mdim==2:\n",
    "        b = np.array([sp2/2, sm2/2])\n",
    "    elif mdim==3:\n",
    "        b = np.array([s_0, sp2, sm2])\n",
    "    else:\n",
    "        raise ValueError(\"mdim is 2 or 3 only supported\")\n",
    "    return b\n",
    "\n",
    "\n",
    "\n",
    "g_a = 0.01\n",
    "g_b = 0.0\n",
    "delta_g = g_a - g_b\n",
    "P = maps[1] + 1j*maps[2]\n",
    "\n",
    "signal_fields = SignalFields(\n",
    "    Field(delta_g * maps[0] / 2, spin=0),\n",
    "    Field((2.0+g_a+g_b) * P / 4, spin=2),\n",
    "    Field((2.0+g_a+g_b) * P.conj() / 4, spin=-2),\n",
    ")\n",
    "\n",
    "get_compled_field(sf_total, signal_fields, mdim=3)"
   ]
  },
  {
   "cell_type": "code",
   "execution_count": null,
   "metadata": {},
   "outputs": [],
   "source": []
  },
  {
   "cell_type": "code",
   "execution_count": null,
   "metadata": {},
   "outputs": [],
   "source": []
  },
  {
   "cell_type": "code",
   "execution_count": null,
   "metadata": {},
   "outputs": [],
   "source": [
    "g_a = 0.01\n",
    "g_b = 0.0\n",
    "delta_g = g_a - g_b\n",
    "P = maps[1] + 1j*maps[2]\n",
    "\n",
    "signal_field = SignalFields(\n",
    "    Field(delta_g * maps[0] / 2, spin=0),\n",
    "    Field((2.0+g_a+g_b) * P / 4, spin=2),\n",
    "    Field((2.0+g_a+g_b) * P.conj() / 4, spin=-2),\n",
    ")\n"
   ]
  }
 ],
 "metadata": {
  "kernelspec": {
   "display_name": "lbs_13",
   "language": "python",
   "name": "python3"
  },
  "language_info": {
   "codemirror_mode": {
    "name": "ipython",
    "version": 3
   },
   "file_extension": ".py",
   "mimetype": "text/x-python",
   "name": "python",
   "nbconvert_exporter": "python",
   "pygments_lexer": "ipython3",
   "version": "3.10.14"
  }
 },
 "nbformat": 4,
 "nbformat_minor": 2
}
